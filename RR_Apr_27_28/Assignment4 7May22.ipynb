{
 "cells": [
  {
   "cell_type": "markdown",
   "metadata": {},
   "source": [
    "## Exercise\n",
    "\n",
    "1. Write a function in your preferred language which allows the user to convert the temperature in Fahrenheit degrees to Celsius degrees or Kelvins, depending on *target* parameter. The function should raise an error for any other temperature scale.\n",
    "2. Check whether 50, 70, and 90 degrees Fahrenheit are converted correctly to Celsius.\n",
    "3. Check whether the function raises an error when Réaumur scale is passed to the *target* parameter.\n",
    "4. Check whether -500, 0, and 1000 degrees Fahrenheit are converted correctly to Kelvin. (hint: should they all be?)"
   ]
  },
  {
   "cell_type": "code",
   "execution_count": 11,
   "metadata": {},
   "outputs": [],
   "source": [
    "def convert(f, target='c'):\n",
    "    if target == 'c':\n",
    "        return (f - 32) / 1.8\n",
    "    elif target == 'k':\n",
    "        return ((f - 32) / 1.8) + 273.15\n",
    "    else:\n",
    "        raise Exception('wrong target')"
   ]
  },
  {
   "cell_type": "code",
   "execution_count": 12,
   "metadata": {},
   "outputs": [
    {
     "name": "stderr",
     "output_type": "stream",
     "text": [
      "E\n",
      "======================================================================\n",
      "ERROR: C:\\Users\\Laura Eflor\\AppData\\Roaming\\jupyter\\runtime\\kernel-34800854-cad2-429f-94a2-72e827b92ab7 (unittest.loader._FailedTest)\n",
      "----------------------------------------------------------------------\n",
      "AttributeError: module '__main__' has no attribute 'C:\\Users\\Laura Eflor\\AppData\\Roaming\\jupyter\\runtime\\kernel-34800854-cad2-429f-94a2-72e827b92ab7'\n",
      "\n",
      "----------------------------------------------------------------------\n",
      "Ran 1 test in 0.001s\n",
      "\n",
      "FAILED (errors=1)\n"
     ]
    },
    {
     "ename": "SystemExit",
     "evalue": "True",
     "output_type": "error",
     "traceback": [
      "An exception has occurred, use %tb to see the full traceback.\n",
      "\u001b[1;31mSystemExit\u001b[0m\u001b[1;31m:\u001b[0m True\n"
     ]
    },
    {
     "name": "stderr",
     "output_type": "stream",
     "text": [
      "C:\\Users\\Laura Eflor\\Anaconda3\\lib\\site-packages\\IPython\\core\\interactiveshell.py:3334: UserWarning: To exit: use 'exit', 'quit', or Ctrl-D.\n",
      "  warn(\"To exit: use 'exit', 'quit', or Ctrl-D.\", stacklevel=1)\n"
     ]
    }
   ],
   "source": [
    "# Exercise 2 - 4\n",
    "\n",
    "import unittest\n",
    "import sys\n",
    "    \n",
    "class TestConvert(unittest.TestCase):\n",
    "    def test_convert_celcius(self):\n",
    "        self.assertEqual(convert('c' == 50), 10)\n",
    "        self.assertEqual(convert('c' == 70), 21.11)\n",
    "        self.assertEqual(convert('c' == 90), 32.22)\n",
    "\n",
    "    def test_convert_kelvin(self):\n",
    "        self.assertEqual(convert('k' == 50), 283.15)\n",
    "        self.assertEqual(convert('k' == 70), 294.26)\n",
    "        self.assertEqual(convert('k' == 90), 305.37)\n",
    "\n",
    "    def test_convert_by_zero(self):\n",
    "        with self.assertRaises(ZeroDivisionError):\n",
    "            convert('c' == 0)\n",
    "            convert('k' == 0)\n",
    "\n",
    "    def test_wrong_inputs(self):\n",
    "        with self.assertRaises(TypeError):\n",
    "            convert('c', 'k')\n",
    "            with self.assertRaises(TypeError):\n",
    "                divide(False, True)\n",
    "\n",
    "    def test_convert_converted_correctly(self):\n",
    "        self.assertEqual(convert(-500, 'k'), -22.4056)\n",
    "        self.assertEqual(convert(0, 'k'), 255.372)\n",
    "        self.assertEqual(convert(1000, 'k'), 810.928)\n",
    "\n",
    "if __name__ == '__main__':\n",
    "    unittest.main()"
   ]
  }
 ],
 "metadata": {
  "kernelspec": {
   "display_name": "Python 3",
   "language": "python",
   "name": "python3"
  },
  "language_info": {
   "codemirror_mode": {
    "name": "ipython",
    "version": 3
   },
   "file_extension": ".py",
   "mimetype": "text/x-python",
   "name": "python",
   "nbconvert_exporter": "python",
   "pygments_lexer": "ipython3",
   "version": "3.7.4"
  }
 },
 "nbformat": 4,
 "nbformat_minor": 2
}
